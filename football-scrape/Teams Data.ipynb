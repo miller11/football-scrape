{
 "cells": [
  {
   "cell_type": "code",
   "execution_count": 30,
   "metadata": {},
   "outputs": [],
   "source": [
    "# First fetch the teams page\n",
    "import requests\n",
    "r = requests.get('https://www.pro-football-reference.com/teams/')\n",
    "\n",
    "# Parse the page\n",
    "\n",
    "from bs4 import BeautifulSoup\n",
    "soup = BeautifulSoup(r.text, 'html.parser')"
   ]
  },
  {
   "cell_type": "code",
   "execution_count": 31,
   "metadata": {
    "collapsed": false
   },
   "outputs": [],
   "source": [
    "# Get the teams table \n",
    "teams_table = soup.find('table', attrs={'id':'teams_active'})"
   ]
  },
  {
   "cell_type": "code",
   "execution_count": 32,
   "metadata": {},
   "outputs": [],
   "source": [
    "# Build the header row\n",
    "teams_table_header = teams_table.find('thead')\n",
    "header_rows = teams_table_header.find_all('tr', attrs={'class': None})\n",
    "\n",
    "# Header rows\n",
    "header_data = []\n",
    "\n",
    "for row in header_rows:\n",
    "    cols = row.find_all('th')\n",
    "    cols = [ele.text.strip() for ele in cols]\n",
    "    cols.insert(1, 'Tm Link') # Add team link header column \n",
    "    header_data.append(cols)"
   ]
  },
  {
   "cell_type": "code",
   "execution_count": 33,
   "metadata": {},
   "outputs": [],
   "source": [
    "# Get the teams out of the table body\n",
    "teams_table = teams_table.find('tbody')\n",
    "teams_rows = teams_table.find_all('tr', attrs={'class': None})\n",
    "\n",
    "# Team Data\n",
    "team_data = []\n",
    "\n",
    "for row in teams_rows:\n",
    "    cols = row.find_all('th')\n",
    "    team_name = cols[0].text.strip()\n",
    "    team_link = cols[0].find('a')['href']\n",
    "    cols = row.find_all('td')\n",
    "    cols = [ele.text.strip() for ele in cols]\n",
    "    cols.insert(0, team_name) # Add team name\n",
    "    cols.insert(1, team_link) # Add team link\n",
    "    team_data.append(cols)"
   ]
  },
  {
   "cell_type": "code",
   "execution_count": 34,
   "metadata": {
    "collapsed": true
   },
   "outputs": [
    {
     "name": "stdout",
     "output_type": "stream",
     "text": [
      "Teams File Complete\n"
     ]
    }
   ],
   "source": [
    "import os.path\n",
    "import csv\n",
    "\n",
    "path = r\"files\"\n",
    "\n",
    "# Write to files directory\n",
    "with open(os.path.join(path, 'teams.csv'), 'w') as writeFile:\n",
    "    writer = csv.writer(writeFile)\n",
    "    writer.writerows(header_data)\n",
    "    writer.writerows(team_data)\n",
    "\n",
    "writeFile.close()\n",
    "\n",
    "print('Teams File Complete')\n"
   ]
  },
  {
   "cell_type": "code",
   "execution_count": 30,
   "metadata": {},
   "outputs": [],
   "source": []
  },
  {
   "cell_type": "code",
   "execution_count": null,
   "metadata": {},
   "outputs": [],
   "source": []
  }
 ],
 "metadata": {
  "kernelspec": {
   "display_name": "Python 2",
   "language": "python",
   "name": "python2"
  },
  "language_info": {
   "codemirror_mode": {
    "name": "ipython",
    "version": 2
   },
   "file_extension": ".py",
   "mimetype": "text/x-python",
   "name": "python",
   "nbconvert_exporter": "python",
   "pygments_lexer": "ipython2",
   "version": "2.7.15"
  }
 },
 "nbformat": 4,
 "nbformat_minor": 2
}
