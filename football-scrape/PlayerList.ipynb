{
 "cells": [
  {
   "cell_type": "code",
   "execution_count": 1,
   "metadata": {
    "collapsed": true
   },
   "outputs": [],
   "source": [
    "import requests\n",
    "from bs4 import BeautifulSoup\n",
    "import string\n",
    "\n",
    "playerData = []  \n",
    "\n",
    "for letter in string.ascii_uppercase:\n",
    "    # Fetch the player page\n",
    "    r = requests.get('https://www.pro-football-reference.com/players/' + letter)\n",
    "\n",
    "    # Parse the page\n",
    "    soup = BeautifulSoup(r.text, 'html.parser')\n",
    "\n",
    "    allPlayers = soup.find('div', attrs={'id': 'div_players'}).findAll('p')  \n",
    "\n",
    "    for player in allPlayers:\n",
    "        temp = [player.find('a').text.strip(), player.find('a')['href']]\n",
    "        playerData.append(temp)"
   ]
  },
  {
   "cell_type": "code",
   "execution_count": 2,
   "metadata": {},
   "outputs": [
    {
     "name": "stdout",
     "output_type": "stream",
     "text": [
      "Player List File Complete\n"
     ]
    }
   ],
   "source": [
    "import os.path\n",
    "import csv\n",
    "\n",
    "path = r\"files\"\n",
    "\n",
    "headers = [r'Player', r'Player Link']\n",
    "\n",
    "# Write to files directory\n",
    "with open(os.path.join(path, 'playerList.csv'), 'w') as writeFile:\n",
    "    writer = csv.writer(writeFile)\n",
    "    writer.writerow(headers)\n",
    "    writer.writerows(playerData)\n",
    "\n",
    "writeFile.close()\n",
    "\n",
    "print('Player List File Complete')"
   ]
  },
  {
   "cell_type": "code",
   "execution_count": null,
   "metadata": {},
   "outputs": [],
   "source": []
  }
 ],
 "metadata": {
  "kernelspec": {
   "display_name": "Python 2",
   "language": "python",
   "name": "python2"
  },
  "language_info": {
   "codemirror_mode": {
    "name": "ipython",
    "version": 2
   },
   "file_extension": ".py",
   "mimetype": "text/x-python",
   "name": "python",
   "nbconvert_exporter": "python",
   "pygments_lexer": "ipython2",
   "version": "2.7.6"
  }
 },
 "nbformat": 4,
 "nbformat_minor": 0
}
