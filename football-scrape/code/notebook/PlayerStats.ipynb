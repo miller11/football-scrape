{
 "cells": [
  {
   "cell_type": "code",
   "execution_count": 41,
   "metadata": {
    "collapsed": true
   },
   "outputs": [],
   "source": [
    "import csv\n",
    "import os.path\n",
    "\n",
    "# Make array of the player name and link\n",
    "players = []\n",
    "\n",
    "# Pull in player file\n",
    "path = r\"files\"\n",
    "\n",
    "with open(os.path.join(path, 'playerList.csv'), 'r') as readFile:\n",
    "    reader = csv.reader(readFile)\n",
    "    next(reader)  # Skip header row\n",
    "    for row in reader:\n",
    "        players.append(row)\n",
    "        \n",
    "readFile.close()"
   ]
  },
  {
   "cell_type": "code",
   "execution_count": 42,
   "metadata": {},
   "outputs": [],
   "source": [
    "baseUrl = 'https://www.pro-football-reference.com'"
   ]
  },
  {
   "cell_type": "code",
   "execution_count": 44,
   "metadata": {},
   "outputs": [
    {
     "name": "stdout",
     "output_type": "stream",
     "text": [
      "/players/B/BeatPe00.htm\n"
     ]
    },
    {
     "name": "stdout",
     "output_type": "stream",
     "text": [
      "/players/B/BlanGe00.htm\n"
     ]
    },
    {
     "name": "stdout",
     "output_type": "stream",
     "text": [
      "/players/B/BratZe00.htm\n"
     ]
    },
    {
     "name": "stdout",
     "output_type": "stream",
     "text": [
      "/players/B/BrowEd01.htm\n"
     ]
    },
    {
     "name": "stdout",
     "output_type": "stream",
     "text": [
      "/players/B/BrumCa20.htm\n"
     ]
    },
    {
     "name": "stdout",
     "output_type": "stream",
     "text": [
      "/players/B/BukiRu00.htm\n"
     ]
    },
    {
     "name": "stdout",
     "output_type": "stream",
     "text": [
      "/players/C/CampSc00.htm\n"
     ]
    },
    {
     "name": "stdout",
     "output_type": "stream",
     "text": [
      "/players/C/CassMa00.htm\n"
     ]
    },
    {
     "name": "stdout",
     "output_type": "stream",
     "text": [
      "/players/C/ChanCh00.htm\n"
     ]
    },
    {
     "name": "stdout",
     "output_type": "stream",
     "text": [
      "/players/C/ClarAl21.htm\n"
     ]
    },
    {
     "name": "stdout",
     "output_type": "stream",
     "text": [
      "/players/C/ClauJi00.htm\n"
     ]
    },
    {
     "name": "stdout",
     "output_type": "stream",
     "text": [
      "/players/C/CollKe00.htm\n"
     ]
    },
    {
     "name": "stdout",
     "output_type": "stream",
     "text": [
      "/players/D/DaviCo00.htm\n"
     ]
    },
    {
     "name": "stdout",
     "output_type": "stream",
     "text": [
      "/players/D/DebeSt00.htm\n"
     ]
    },
    {
     "name": "stdout",
     "output_type": "stream",
     "text": [
      "/players/D/DekdAl20.htm\n"
     ]
    },
    {
     "name": "stdout",
     "output_type": "stream",
     "text": [
      "/players/D/DilsSt00.htm\n"
     ]
    },
    {
     "name": "stdout",
     "output_type": "stream",
     "text": [
      "/players/D/DobbGl20.htm\n"
     ]
    },
    {
     "name": "stdout",
     "output_type": "stream",
     "text": [
      "/players/D/DougBo00.htm\n"
     ]
    },
    {
     "name": "stdout",
     "output_type": "stream",
     "text": [
      "/players/E/EasoTo00.htm\n"
     ]
    },
    {
     "name": "stdout",
     "output_type": "stream",
     "text": [
      "/players/E/EdwaTr01.htm\n"
     ]
    },
    {
     "name": "stdout",
     "output_type": "stream",
     "text": [
      "/players/E/EnisHu00.htm\n"
     ]
    },
    {
     "name": "stdout",
     "output_type": "stream",
     "text": [
      "/players/F/FilcFr20.htm\n"
     ]
    },
    {
     "name": "stdout",
     "output_type": "stream",
     "text": [
      "/players/F/FlorTo00.htm\n"
     ]
    },
    {
     "name": "stdout",
     "output_type": "stream",
     "text": [
      "/players/F/FlutDo00.htm\n"
     ]
    },
    {
     "name": "stdout",
     "output_type": "stream",
     "text": [
      "/players/F/FlynMa00.htm\n"
     ]
    },
    {
     "name": "stdout",
     "output_type": "stream",
     "text": [
      "/players/F/FreeJo00.htm\n"
     ]
    },
    {
     "name": "stdout",
     "output_type": "stream",
     "text": [
      "/players/G/GaspJo20.htm\n"
     ]
    },
    {
     "name": "stdout",
     "output_type": "stream",
     "text": [
      "/players/G/GilbGa01.htm\n"
     ]
    },
    {
     "name": "stdout",
     "output_type": "stream",
     "text": [
      "/players/G/GolsJe00.htm\n"
     ]
    },
    {
     "name": "stdout",
     "output_type": "stream",
     "text": [
      "/players/G/GovePa20.htm\n"
     ]
    },
    {
     "name": "stdout",
     "output_type": "stream",
     "text": [
      "/players/G/GuglRa00.htm\n"
     ]
    },
    {
     "name": "stdout",
     "output_type": "stream",
     "text": [
      "/players/H/HadlJo00.htm\n"
     ]
    },
    {
     "name": "stdout",
     "output_type": "stream",
     "text": [
      "/players/H/HillKi00.htm\n"
     ]
    },
    {
     "name": "stdout",
     "output_type": "stream",
     "text": [
      "/players/H/HobeBi00.htm\n"
     ]
    },
    {
     "name": "stdout",
     "output_type": "stream",
     "text": [
      "/players/H/HolmWa21.htm\n"
     ]
    },
    {
     "name": "stdout",
     "output_type": "stream",
     "text": [
      "/players/H/HoyeBr00.htm\n"
     ]
    },
    {
     "name": "stdout",
     "output_type": "stream",
     "text": [
      "/players/J/JeffBi20.htm\n"
     ]
    },
    {
     "name": "stdout",
     "output_type": "stream",
     "text": [
      "/players/J/JohnRo00.htm\n"
     ]
    },
    {
     "name": "stdout",
     "output_type": "stream",
     "text": [
      "/players/K/KeenCa00.htm\n"
     ]
    },
    {
     "name": "stdout",
     "output_type": "stream",
     "text": [
      "/players/K/KempJa00.htm\n"
     ]
    },
    {
     "name": "stdout",
     "output_type": "stream",
     "text": [
      "/players/K/KempJe00.htm\n"
     ]
    },
    {
     "name": "stdout",
     "output_type": "stream",
     "text": [
      "/players/K/KosaBe00.htm\n"
     ]
    },
    {
     "name": "stdout",
     "output_type": "stream",
     "text": [
      "/players/L/LaynBo00.htm\n"
     ]
    },
    {
     "name": "stdout",
     "output_type": "stream",
     "text": [
      "/players/L/LeexJa00.htm\n"
     ]
    },
    {
     "name": "stdout",
     "output_type": "stream",
     "text": [
      "/players/L/LindRy00.htm\n"
     ]
    },
    {
     "name": "stdout",
     "output_type": "stream",
     "text": [
      "/players/M/MackBi20.htm\n"
     ]
    },
    {
     "name": "stdout",
     "output_type": "stream",
     "text": [
      "/players/M/MallRy00.htm\n"
     ]
    },
    {
     "name": "stdout",
     "output_type": "stream",
     "text": [
      "/players/M/MannAr00.htm\n/players/M/MannAr00.htm\n"
     ]
    },
    {
     "name": "stdout",
     "output_type": "stream",
     "text": [
      "/players/M/McDoCo20.htm\n"
     ]
    },
    {
     "name": "stdout",
     "output_type": "stream",
     "text": [
      "/players/M/McHaLa00.htm\n"
     ]
    },
    {
     "name": "stdout",
     "output_type": "stream",
     "text": [
      "/players/M/MerkGu00.htm\n"
     ]
    },
    {
     "name": "stdout",
     "output_type": "stream",
     "text": [
      "/players/M/MorrEa00.htm\n"
     ]
    },
    {
     "name": "stdout",
     "output_type": "stream",
     "text": [
      "/players/M/MortCr00.htm\n"
     ]
    },
    {
     "name": "stdout",
     "output_type": "stream",
     "text": [
      "/players/O/OrtoKy00.htm\n"
     ]
    },
    {
     "name": "stdout",
     "output_type": "stream",
     "text": [
      "/players/P/PryoTe00.htm\n"
     ]
    },
    {
     "name": "stdout",
     "output_type": "stream",
     "text": [
      "/players/Q/QuatJe20.htm\n"
     ]
    },
    {
     "name": "stdout",
     "output_type": "stream",
     "text": [
      "/players/R/RaucJo20.htm\n"
     ]
    },
    {
     "name": "stdout",
     "output_type": "stream",
     "text": [
      "/players/R/RomaSt00.htm\n"
     ]
    },
    {
     "name": "stdout",
     "output_type": "stream",
     "text": [
      "/players/S/SarbPh20.htm\n/players/S/SarbPh20.htm\n"
     ]
    },
    {
     "name": "stdout",
     "output_type": "stream",
     "text": [
      "/players/S/SchiSh99.htm\n"
     ]
    },
    {
     "name": "stdout",
     "output_type": "stream",
     "text": [
      "/players/S/SherTo00.htm\n"
     ]
    },
    {
     "name": "stdout",
     "output_type": "stream",
     "text": [
      "/players/S/ShinDi00.htm\n"
     ]
    },
    {
     "name": "stdout",
     "output_type": "stream",
     "text": [
      "/players/S/SneaNo00.htm\n"
     ]
    },
    {
     "name": "stdout",
     "output_type": "stream",
     "text": [
      "/players/T/TempMa20.htm\n"
     ]
    },
    {
     "name": "stdout",
     "output_type": "stream",
     "text": [
      "/players/T/TerlGe20.htm\n"
     ]
    },
    {
     "name": "stdout",
     "output_type": "stream",
     "text": [
      "/players/T/ThigTy00.htm\n"
     ]
    },
    {
     "name": "stdout",
     "output_type": "stream",
     "text": [
      "/players/T/TollBi00.htm\n"
     ]
    },
    {
     "name": "stdout",
     "output_type": "stream",
     "text": [
      "/players/T/TripFr00.htm\n"
     ]
    },
    {
     "name": "stdout",
     "output_type": "stream",
     "text": [
      "/players/T/TrulDo00.htm\n"
     ]
    },
    {
     "name": "stdout",
     "output_type": "stream",
     "text": [
      "/players/T/TuckDi20.htm\n"
     ]
    },
    {
     "name": "stdout",
     "output_type": "stream",
     "text": [
      "/players/V/VacaSa20.htm\n"
     ]
    },
    {
     "name": "stdout",
     "output_type": "stream",
     "text": [
      "/players/W/WalsSt00.htm\n"
     ]
    },
    {
     "name": "stdout",
     "output_type": "stream",
     "text": [
      "/players/W/WateDa20.htm\n"
     ]
    },
    {
     "name": "stdout",
     "output_type": "stream",
     "text": [
      "/players/W/WeedBr00.htm\n"
     ]
    },
    {
     "name": "stdout",
     "output_type": "stream",
     "text": [
      "/players/W/WheeEr20.htm\n"
     ]
    },
    {
     "name": "stdout",
     "output_type": "stream",
     "text": [
      "/players/W/WhitCh02.htm\n"
     ]
    },
    {
     "name": "stdout",
     "output_type": "stream",
     "text": [
      "/players/W/WoodDi00.htm\n"
     ]
    },
    {
     "name": "stdout",
     "output_type": "stream",
     "text": [
      "/players/Y/YoueJi20.htm\n"
     ]
    }
   ],
   "source": [
    "import requests\n",
    "from bs4 import BeautifulSoup\n",
    "import re\n",
    "\n",
    "# Pull passing stats\n",
    "headers = []\n",
    "headersWritten = False\n",
    "\n",
    "# Define the output file in the teams dir\n",
    "with open(os.path.join(path, 'stats',  'passing.csv'), 'w') as writeFile:\n",
    "    writer = csv.writer(writeFile)\n",
    "    passingData = []\n",
    "\n",
    "    for player in players:\n",
    "        r = requests.get(baseUrl + player[1])\n",
    "        \n",
    "        # Parse the page\n",
    "        soup = BeautifulSoup(r.text, 'html.parser')\n",
    "                \n",
    "        # Check to make sure the player has passing stats\n",
    "        if soup.find('table', attrs={'id': 'passing'}):\n",
    "            # Get the file headers if\n",
    "            if len(headers) == 0:\n",
    "                header_rows = soup.find('table', attrs={'id': 'passing'}).find('thead')            \n",
    "                header_rows = header_rows.find_all('tr', attrs={'class': None})\n",
    "                \n",
    "                cols = header_rows[0].find_all('th')\n",
    "                cols = [ele.text.strip().encode('utf-8') for ele in cols]\n",
    "                cols.insert(0, 'Player')\n",
    "                cols.insert(1, 'Player Link')\n",
    "                cols.insert(5, 'Tm Link')  # Add team link header column \n",
    "                headers.append(cols)\n",
    "    \n",
    "            body_rows = soup.find('table', attrs={'id': 'passing'}).find('tbody').find_all('tr', attrs={'class': 'full_table'})\n",
    "            \n",
    "            for row in body_rows:\n",
    "                cols = row.find_all('th')\n",
    "                year = re.sub(r\"\\D\", \"\", cols[0].text.strip())  # Get year, removing special characters\n",
    "                \n",
    "                cols = row.find_all('td')\n",
    "                \n",
    "                if cols[1].find('a'):\n",
    "                    team_link = cols[1].find('a')['href']  # Team Link from the team link column\n",
    "                else:\n",
    "                    team_link = 'none'\n",
    "                \n",
    "                cols = [ele.text.strip() for ele in cols]\n",
    "                \n",
    "                cols.insert(0, player[0])\n",
    "                cols.insert(1, player[1])\n",
    "                cols.insert(2, year)\n",
    "                cols.insert(5, team_link)  # Add team link\n",
    "                passingData.append(cols)\n",
    "            \n",
    "            if headersWritten is False and len(headers) > 0:\n",
    "                writer.writerows(headers)\n",
    "                headersWritten = True\n",
    "    \n",
    "            if headersWritten:\n",
    "                writer.writerows(passingData)\n",
    "                passingData = []\n",
    "                writeFile.flush()\n",
    "\n",
    "writeFile.close()"
   ]
  },
  {
   "cell_type": "code",
   "execution_count": null,
   "metadata": {},
   "outputs": [],
   "source": []
  }
 ],
 "metadata": {
  "kernelspec": {
   "display_name": "Python 2",
   "language": "python",
   "name": "python2"
  },
  "language_info": {
   "codemirror_mode": {
    "name": "ipython",
    "version": 2
   },
   "file_extension": ".py",
   "mimetype": "text/x-python",
   "name": "python",
   "nbconvert_exporter": "python",
   "pygments_lexer": "ipython2",
   "version": "2.7.6"
  }
 },
 "nbformat": 4,
 "nbformat_minor": 0
}
