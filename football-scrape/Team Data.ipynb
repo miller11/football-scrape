{
 "cells": [
  {
   "cell_type": "code",
   "execution_count": 13,
   "metadata": {
    "collapsed": true
   },
   "outputs": [],
   "source": [
    "import csv\n",
    "import os.path\n",
    "\n",
    "# Make array of just team link\n",
    "teams = []\n",
    "\n",
    "# Pull in teams file\n",
    "path = r\"files\"\n",
    "\n",
    "with open(os.path.join(path, 'teams.csv'), 'r') as readFile:\n",
    "    reader = csv.reader(readFile)\n",
    "    next(reader)  # Skip header row\n",
    "    for row in reader:\n",
    "        teams.append(row[1])\n",
    "        \n",
    "readFile.close()"
   ]
  },
  {
   "cell_type": "code",
   "execution_count": 16,
   "metadata": {
    "collapsed": true
   },
   "outputs": [
    {
     "name": "stdout",
     "output_type": "stream",
     "text": [
      "<th class=\"left\" data-stat=\"year_id\" scope=\"row\"><a href=\"/teams/crd/2018.htm\">2018</a></th>\n<th class=\"left\" data-stat=\"year_id\" scope=\"row\"><a href=\"/teams/crd/2017.htm\">2017</a></th>\n<th class=\"left\" data-stat=\"year_id\" scope=\"row\"><a href=\"/teams/crd/2016.htm\">2016</a></th>\n<th class=\"left\" data-stat=\"year_id\" scope=\"row\"><a href=\"/teams/crd/2015.htm\">2015</a></th>\n<th class=\"left\" data-stat=\"year_id\" scope=\"row\"><a href=\"/teams/crd/2014.htm\">2014</a></th>\n<th class=\"left\" data-stat=\"year_id\" scope=\"row\"><a href=\"/teams/crd/2013.htm\">2013</a></th>\n<th class=\"left\" data-stat=\"year_id\" scope=\"row\"><a href=\"/teams/crd/2012.htm\">2012</a></th>\n<th class=\"left\" data-stat=\"year_id\" scope=\"row\"><a href=\"/teams/crd/2011.htm\">2011</a></th>\n<th class=\"left\" data-stat=\"year_id\" scope=\"row\"><a href=\"/teams/crd/2010.htm\">2010</a></th>\n<th class=\"left\" data-stat=\"year_id\" scope=\"row\"><a href=\"/teams/crd/2009.htm\">2009</a></th>\n<th class=\"left\" data-stat=\"year_id\" scope=\"row\"><a href=\"/teams/crd/2008.htm\">2008</a></th>\n<th class=\"left\" data-stat=\"year_id\" scope=\"row\"><a href=\"/teams/crd/2007.htm\">2007</a></th>\n<th class=\"left\" data-stat=\"year_id\" scope=\"row\"><a href=\"/teams/crd/2006.htm\">2006</a></th>\n<th class=\"left\" data-stat=\"year_id\" scope=\"row\"><a href=\"/teams/crd/2005.htm\">2005</a></th>\n<th class=\"left\" data-stat=\"year_id\" scope=\"row\"><a href=\"/teams/crd/2004.htm\">2004</a></th>\n<th class=\"left\" data-stat=\"year_id\" scope=\"row\"><a href=\"/teams/crd/2003.htm\">2003</a></th>\n<th class=\"left\" data-stat=\"year_id\" scope=\"row\"><a href=\"/teams/crd/2002.htm\">2002</a></th>\n<th class=\"left\" data-stat=\"year_id\" scope=\"row\"><a href=\"/teams/crd/2001.htm\">2001</a></th>\n<th class=\"left\" data-stat=\"year_id\" scope=\"row\"><a href=\"/teams/crd/2000.htm\">2000</a></th>\n<th class=\"left\" data-stat=\"year_id\" scope=\"row\"><a href=\"/teams/crd/1999.htm\">1999</a></th>\n<th class=\"left\" data-stat=\"year_id\" scope=\"row\"><a href=\"/teams/crd/1998.htm\">1998</a></th>\n<th class=\"left\" data-stat=\"year_id\" scope=\"row\"><a href=\"/teams/crd/1997.htm\">1997</a></th>\n<th class=\"left\" data-stat=\"year_id\" scope=\"row\"><a href=\"/teams/crd/1996.htm\">1996</a></th>\n<th class=\"left\" data-stat=\"year_id\" scope=\"row\"><a href=\"/teams/crd/1995.htm\">1995</a></th>\n<th class=\"left\" data-stat=\"year_id\" scope=\"row\"><a href=\"/teams/crd/1994.htm\">1994</a></th>\n<th class=\"left\" data-stat=\"year_id\" scope=\"row\"><a href=\"/teams/crd/1993.htm\">1993</a></th>\n<th class=\"left\" data-stat=\"year_id\" scope=\"row\"><a href=\"/teams/crd/1992.htm\">1992</a></th>\n<th class=\"left\" data-stat=\"year_id\" scope=\"row\"><a href=\"/teams/crd/1991.htm\">1991</a></th>\n<th class=\"left\" data-stat=\"year_id\" scope=\"row\"><a href=\"/teams/crd/1990.htm\">1990</a></th>\n<th class=\"left\" data-stat=\"year_id\" scope=\"row\"><a href=\"/teams/crd/1989.htm\">1989</a></th>\n<th class=\"left\" data-stat=\"year_id\" scope=\"row\"><a href=\"/teams/crd/1988.htm\">1988</a></th>\n<th class=\"left\" data-stat=\"year_id\" scope=\"row\"><a href=\"/teams/crd/1987.htm\">1987</a></th>\n<th class=\"left\" data-stat=\"year_id\" scope=\"row\"><a href=\"/teams/crd/1986.htm\">1986</a></th>\n<th class=\"left\" data-stat=\"year_id\" scope=\"row\"><a href=\"/teams/crd/1985.htm\">1985</a></th>\n<th class=\"left\" data-stat=\"year_id\" scope=\"row\"><a href=\"/teams/crd/1984.htm\">1984</a></th>\n<th class=\"left\" data-stat=\"year_id\" scope=\"row\"><a href=\"/teams/crd/1983.htm\">1983</a></th>\n<th class=\"left\" data-stat=\"year_id\" scope=\"row\"><a href=\"/teams/crd/1982.htm\">1982</a></th>\n<th class=\"left\" data-stat=\"year_id\" scope=\"row\"><a href=\"/teams/crd/1981.htm\">1981</a></th>\n<th class=\"left\" data-stat=\"year_id\" scope=\"row\"><a href=\"/teams/crd/1980.htm\">1980</a></th>\n<th class=\"left\" data-stat=\"year_id\" scope=\"row\"><a href=\"/teams/crd/1979.htm\">1979</a></th>\n<th class=\"left\" data-stat=\"year_id\" scope=\"row\"><a href=\"/teams/crd/1978.htm\">1978</a></th>\n<th class=\"left\" data-stat=\"year_id\" scope=\"row\"><a href=\"/teams/crd/1977.htm\">1977</a></th>\n<th class=\"left\" data-stat=\"year_id\" scope=\"row\"><a href=\"/teams/crd/1976.htm\">1976</a></th>\n<th class=\"left\" data-stat=\"year_id\" scope=\"row\"><a href=\"/teams/crd/1975.htm\">1975</a></th>\n<th class=\"left\" data-stat=\"year_id\" scope=\"row\"><a href=\"/teams/crd/1974.htm\">1974</a></th>\n<th class=\"left\" data-stat=\"year_id\" scope=\"row\"><a href=\"/teams/crd/1973.htm\">1973</a></th>\n<th class=\"left\" data-stat=\"year_id\" scope=\"row\"><a href=\"/teams/crd/1972.htm\">1972</a></th>\n<th class=\"left\" data-stat=\"year_id\" scope=\"row\"><a href=\"/teams/crd/1971.htm\">1971</a></th>\n<th class=\"left\" data-stat=\"year_id\" scope=\"row\"><a href=\"/teams/crd/1970.htm\">1970</a></th>\n<th class=\"left\" data-stat=\"year_id\" scope=\"row\"><a href=\"/teams/crd/1969.htm\">1969</a></th>\n<th class=\"left\" data-stat=\"year_id\" scope=\"row\"><a href=\"/teams/crd/1968.htm\">1968</a></th>\n<th class=\"left\" data-stat=\"year_id\" scope=\"row\"><a href=\"/teams/crd/1967.htm\">1967</a></th>\n<th class=\"left\" data-stat=\"year_id\" scope=\"row\"><a href=\"/teams/crd/1966.htm\">1966</a></th>\n<th class=\"left\" data-stat=\"year_id\" scope=\"row\"><a href=\"/teams/crd/1965.htm\">1965</a></th>\n<th class=\"left\" data-stat=\"year_id\" scope=\"row\"><a href=\"/teams/crd/1964.htm\">1964</a></th>\n<th class=\"left\" data-stat=\"year_id\" scope=\"row\"><a href=\"/teams/crd/1963.htm\">1963</a></th>\n<th class=\"left\" data-stat=\"year_id\" scope=\"row\"><a href=\"/teams/crd/1962.htm\">1962</a></th>\n<th class=\"left\" data-stat=\"year_id\" scope=\"row\"><a href=\"/teams/crd/1961.htm\">1961</a></th>\n<th class=\"left\" data-stat=\"year_id\" scope=\"row\"><a href=\"/teams/crd/1960.htm\">1960</a></th>\n<th class=\"left\" data-stat=\"year_id\" scope=\"row\"><a href=\"/teams/crd/1959.htm\">1959</a></th>\n<th class=\"left\" data-stat=\"year_id\" scope=\"row\"><a href=\"/teams/crd/1958.htm\">1958</a></th>\n<th class=\"left\" data-stat=\"year_id\" scope=\"row\"><a href=\"/teams/crd/1957.htm\">1957</a></th>\n<th class=\"left\" data-stat=\"year_id\" scope=\"row\"><a href=\"/teams/crd/1956.htm\">1956</a></th>\n<th class=\"left\" data-stat=\"year_id\" scope=\"row\"><a href=\"/teams/crd/1955.htm\">1955</a></th>\n<th class=\"left\" data-stat=\"year_id\" scope=\"row\"><a href=\"/teams/crd/1954.htm\">1954</a></th>\n<th class=\"left\" data-stat=\"year_id\" scope=\"row\"><a href=\"/teams/crd/1953.htm\">1953</a></th>\n<th class=\"left\" data-stat=\"year_id\" scope=\"row\"><a href=\"/teams/crd/1952.htm\">1952</a></th>\n<th class=\"left\" data-stat=\"year_id\" scope=\"row\"><a href=\"/teams/crd/1951.htm\">1951</a></th>\n<th class=\"left\" data-stat=\"year_id\" scope=\"row\"><a href=\"/teams/crd/1950.htm\">1950</a></th>\n<th class=\"left\" data-stat=\"year_id\" scope=\"row\"><a href=\"/teams/crd/1949.htm\">1949</a></th>\n<th class=\"left\" data-stat=\"year_id\" scope=\"row\"><a href=\"/teams/crd/1948.htm\">1948</a></th>\n<th class=\"left\" data-stat=\"year_id\" scope=\"row\"><a href=\"/teams/crd/1947.htm\">1947</a></th>\n<th class=\"left\" data-stat=\"year_id\" scope=\"row\"><a href=\"/teams/crd/1946.htm\">1946</a></th>\n<th class=\"left\" data-stat=\"year_id\" scope=\"row\"><a href=\"/teams/crd/1945.htm\">1945</a></th>\n<th class=\"left\" data-stat=\"year_id\" scope=\"row\"><a href=\"/teams/crd/1944.htm\">1944</a></th>\n<th class=\"left\" data-stat=\"year_id\" scope=\"row\"><a href=\"/teams/crd/1943.htm\">1943</a></th>\n<th class=\"left\" data-stat=\"year_id\" scope=\"row\"><a href=\"/teams/crd/1942.htm\">1942</a></th>\n<th class=\"left\" data-stat=\"year_id\" scope=\"row\"><a href=\"/teams/crd/1941.htm\">1941</a></th>\n<th class=\"left\" data-stat=\"year_id\" scope=\"row\"><a href=\"/teams/crd/1940.htm\">1940</a></th>\n<th class=\"left\" data-stat=\"year_id\" scope=\"row\"><a href=\"/teams/crd/1939.htm\">1939</a></th>\n<th class=\"left\" data-stat=\"year_id\" scope=\"row\"><a href=\"/teams/crd/1938.htm\">1938</a></th>\n<th class=\"left\" data-stat=\"year_id\" scope=\"row\"><a href=\"/teams/crd/1937.htm\">1937</a></th>\n<th class=\"left\" data-stat=\"year_id\" scope=\"row\"><a href=\"/teams/crd/1936.htm\">1936</a></th>\n<th class=\"left\" data-stat=\"year_id\" scope=\"row\"><a href=\"/teams/crd/1935.htm\">1935</a></th>\n<th class=\"left\" data-stat=\"year_id\" scope=\"row\"><a href=\"/teams/crd/1934.htm\">1934</a></th>\n<th class=\"left\" data-stat=\"year_id\" scope=\"row\"><a href=\"/teams/crd/1933.htm\">1933</a></th>\n<th class=\"left\" data-stat=\"year_id\" scope=\"row\"><a href=\"/teams/crd/1932.htm\">1932</a></th>\n<th class=\"left\" data-stat=\"year_id\" scope=\"row\"><a href=\"/teams/crd/1931.htm\">1931</a></th>\n<th class=\"left\" data-stat=\"year_id\" scope=\"row\"><a href=\"/teams/crd/1930.htm\">1930</a></th>\n<th class=\"left\" data-stat=\"year_id\" scope=\"row\"><a href=\"/teams/crd/1929.htm\">1929</a></th>\n<th class=\"left\" data-stat=\"year_id\" scope=\"row\"><a href=\"/teams/crd/1928.htm\">1928</a></th>\n<th class=\"left\" data-stat=\"year_id\" scope=\"row\"><a href=\"/teams/crd/1927.htm\">1927</a></th>\n<th class=\"left\" data-stat=\"year_id\" scope=\"row\"><a href=\"/teams/crd/1926.htm\">1926</a></th>\n<th class=\"left\" data-stat=\"year_id\" scope=\"row\"><a href=\"/teams/crd/1925.htm\">1925</a></th>\n<th class=\"left\" data-stat=\"year_id\" scope=\"row\"><a href=\"/teams/crd/1924.htm\">1924</a></th>\n<th class=\"left\" data-stat=\"year_id\" scope=\"row\"><a href=\"/teams/crd/1923.htm\">1923</a></th>\n<th class=\"left\" data-stat=\"year_id\" scope=\"row\"><a href=\"/teams/crd/1922.htm\">1922</a></th>\n<th class=\"left\" data-stat=\"year_id\" scope=\"row\"><a href=\"/teams/crd/1921.htm\">1921</a></th>\n<th class=\"left\" data-stat=\"year_id\" scope=\"row\"><a href=\"/teams/crd/1920.htm\">1920</a></th>\n"
     ]
    }
   ],
   "source": [
    "import requests\n",
    "from bs4 import BeautifulSoup\n",
    "\n",
    "# Define base route\n",
    "baseRoute = 'https://www.pro-football-reference.com'\n",
    "\n",
    "# Iterate teams and get each team page\n",
    "for team in teams:\n",
    "    team_code = team.split('/')[2]\n",
    "        \n",
    "    # Define the output file\n",
    "    with open(os.path.join(path, team_code + '.csv'), 'w') as writeFile:\n",
    "        writer = csv.writer(writeFile)\n",
    "    \n",
    "        # Get the individual team\n",
    "        r = requests.get(baseRoute + team)\n",
    "        soup = BeautifulSoup(r.text, 'html.parser')\n",
    "    \n",
    "        # Pull the headers from the table\n",
    "        team_table = soup.find('table', attrs={'id':'team_index'})\n",
    "        header_rows = team_table.find('thead').find_all('tr', attrs={'class': None})\n",
    "            \n",
    "        # Structure the header data\n",
    "        header_data = []\n",
    "        cols = header_rows[0].find_all('th')\n",
    "        cols = [ele.text.strip().encode('utf-8') for ele in cols]\n",
    "        cols.insert(1, 'Tm Link') # Add team link header column \n",
    "        header_data.append(cols)\n",
    "\n",
    "        # Write headers to the file       \n",
    "        writer.writerows(header_data)\n",
    "        \n",
    "        # Pull all the team data and write to file\n",
    "        table_rows = team_table.find('tbody').find_all('tr', attrs={'class': None})\n",
    "        \n",
    "        # Team Data\n",
    "        team_year_data = []\n",
    "\n",
    "        for row in table_rows:\n",
    "            cols = row.find_all('th')\n",
    "            team_year = cols[0].text.strip()\n",
    "            team_link = cols[0].find('a')['href']\n",
    "            cols = row.find_all('td')\n",
    "            cols = [ele.text.strip() for ele in cols]\n",
    "            cols.insert(0, team_year) # Add team name\n",
    "            cols.insert(1, team_link) # Add team link\n",
    "            team_year_data.append(cols)\n",
    "        \n",
    "        writer.writerows(team_year_data)\n",
    "\n",
    "    # Close the writer\n",
    "    writeFile.close()"
   ]
  },
  {
   "cell_type": "code",
   "execution_count": null,
   "metadata": {},
   "outputs": [],
   "source": []
  }
 ],
 "metadata": {
  "kernelspec": {
   "display_name": "Python 2",
   "language": "python",
   "name": "python2"
  },
  "language_info": {
   "codemirror_mode": {
    "name": "ipython",
    "version": 2
   },
   "file_extension": ".py",
   "mimetype": "text/x-python",
   "name": "python",
   "nbconvert_exporter": "python",
   "pygments_lexer": "ipython2",
   "version": "2.7.6"
  }
 },
 "nbformat": 4,
 "nbformat_minor": 0
}
